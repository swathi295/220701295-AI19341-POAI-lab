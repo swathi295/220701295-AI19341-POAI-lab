{
 "cells": [
  {
   "cell_type": "markdown",
   "id": "037c75e9-41a3-4800-97e6-b1da59f6a4b2",
   "metadata": {},
   "source": [
    "# 220701295 - Swathi G"
   ]
  },
  {
   "cell_type": "markdown",
   "id": "dc392528-8443-4595-8f63-1de58f0d0585",
   "metadata": {},
   "source": [
    "## Depth First Search"
   ]
  },
  {
   "cell_type": "code",
   "execution_count": 1,
   "id": "d27c8d73-307e-48b2-b7a3-63487f008c75",
   "metadata": {},
   "outputs": [],
   "source": [
    "def dfs(graph, start, visited=None):\n",
    "    if visited is None:\n",
    "        visited = set()\n",
    "\n",
    "    visited.add(start)\n",
    "    print(start, end=' ')\n",
    "\n",
    "    for neighbor in graph[start]:\n",
    "        if neighbor not in visited:\n",
    "            dfs(graph, neighbor, visited)\n",
    "\n",
    "    return visited"
   ]
  },
  {
   "cell_type": "code",
   "execution_count": 2,
   "id": "b1a883c8-02f9-433f-abfc-e6a90abbbef9",
   "metadata": {},
   "outputs": [
    {
     "name": "stdout",
     "output_type": "stream",
     "text": [
      "DFS Traversal starting from node 'A':\n",
      "A B D E F C "
     ]
    }
   ],
   "source": [
    "if __name__ == \"__main__\":\n",
    "    # Define the graph as an adjacency list (dictionary)\n",
    "    graph = {\n",
    "        'A': ['B', 'C'],\n",
    "        'B': ['A', 'D', 'E'],\n",
    "        'C': ['A', 'F'],\n",
    "        'D': ['B'],\n",
    "        'E': ['B', 'F'],\n",
    "        'F': ['C', 'E']\n",
    "    }\n",
    "\n",
    "    print(\"DFS Traversal starting from node 'A':\")\n",
    "    dfs(graph, 'A')"
   ]
  }
 ],
 "metadata": {
  "kernelspec": {
   "display_name": "Python 3 (ipykernel)",
   "language": "python",
   "name": "python3"
  },
  "language_info": {
   "codemirror_mode": {
    "name": "ipython",
    "version": 3
   },
   "file_extension": ".py",
   "mimetype": "text/x-python",
   "name": "python",
   "nbconvert_exporter": "python",
   "pygments_lexer": "ipython3",
   "version": "3.11.4"
  }
 },
 "nbformat": 4,
 "nbformat_minor": 5
}
