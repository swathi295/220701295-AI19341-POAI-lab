{
 "cells": [
  {
   "cell_type": "markdown",
   "id": "a0f4cbcf-0972-4bc1-b669-4d3a931038b8",
   "metadata": {},
   "source": [
    "# 220701295 - Swathi G"
   ]
  },
  {
   "cell_type": "markdown",
   "id": "a3297a6b-8de4-4d46-825d-364acadca64c",
   "metadata": {},
   "source": [
    "## N Queens Problem"
   ]
  },
  {
   "cell_type": "code",
   "execution_count": 1,
   "id": "7cc7e0e8-7def-46de-a021-2b092324fe00",
   "metadata": {},
   "outputs": [],
   "source": [
    "def printSolution(board):\n",
    "    for i in range(N):\n",
    "        for j in range(N):\n",
    "            if board[i][j] == 1:\n",
    "                print(\"Q\", end=' ')\n",
    "            else:\n",
    "                print(\"-\", end=' ')\n",
    "        print()"
   ]
  },
  {
   "cell_type": "code",
   "execution_count": 2,
   "id": "2537b7be-9686-4204-9ff8-3b268d1ea965",
   "metadata": {},
   "outputs": [],
   "source": [
    "def isSafe(board, row, col):\n",
    "    for i in range(col):\n",
    "        if board[row][i] == 1:\n",
    "            return False\n",
    "\n",
    "    for i, j in zip(range(row, -1, -1), range(col, -1, -1)):\n",
    "        if board[i][j] == 1:\n",
    "            return False\n",
    "\n",
    "    for i, j in zip(range(row, N, 1), range(col, -1, -1)):\n",
    "        if board[i][j] == 1:\n",
    "            return False\n",
    "\n",
    "    return True"
   ]
  },
  {
   "cell_type": "code",
   "execution_count": 3,
   "id": "681f8f5f-58fe-44ed-a922-c414dbcb7ff8",
   "metadata": {},
   "outputs": [],
   "source": [
    "def solveNQUtil(board, col):\n",
    "    if col >= N:\n",
    "        return True\n",
    "       \n",
    "    for i in range(N):\n",
    "        if isSafe(board, i, col):\n",
    "            board[i][col] = 1\n",
    "            if solveNQUtil(board, col + 1):\n",
    "                return True\n",
    "            board[i][col] = 0\n",
    "\n",
    "    return False"
   ]
  },
  {
   "cell_type": "code",
   "execution_count": 4,
   "id": "e9cd2532-49e4-4d43-9d69-61ca79c1773d",
   "metadata": {},
   "outputs": [],
   "source": [
    "def solveNQ():\n",
    "    global N\n",
    "    N = int(input(\"Enter the number of queens (board size): \"))\n",
    "   \n",
    "    board = [[0 for _ in range(N)] for _ in range(N)]\n",
    "\n",
    "    if solveNQUtil(board, 0) == False:\n",
    "        print(\"Solution does not exist\")\n",
    "        return False\n",
    "\n",
    "    printSolution(board)\n",
    "    return True"
   ]
  },
  {
   "cell_type": "code",
   "execution_count": 5,
   "id": "ece98f35-7aac-44ef-bb45-c22beb5711f5",
   "metadata": {},
   "outputs": [
    {
     "name": "stdout",
     "output_type": "stream",
     "text": [
      "Enter the number of queens (board size):  4\n"
     ]
    },
    {
     "name": "stdout",
     "output_type": "stream",
     "text": [
      "- - Q - \n",
      "Q - - - \n",
      "- - - Q \n",
      "- Q - - \n"
     ]
    },
    {
     "data": {
      "text/plain": [
       "True"
      ]
     },
     "execution_count": 5,
     "metadata": {},
     "output_type": "execute_result"
    }
   ],
   "source": [
    "solveNQ()"
   ]
  }
 ],
 "metadata": {
  "kernelspec": {
   "display_name": "Python 3 (ipykernel)",
   "language": "python",
   "name": "python3"
  },
  "language_info": {
   "codemirror_mode": {
    "name": "ipython",
    "version": 3
   },
   "file_extension": ".py",
   "mimetype": "text/x-python",
   "name": "python",
   "nbconvert_exporter": "python",
   "pygments_lexer": "ipython3",
   "version": "3.11.4"
  }
 },
 "nbformat": 4,
 "nbformat_minor": 5
}
