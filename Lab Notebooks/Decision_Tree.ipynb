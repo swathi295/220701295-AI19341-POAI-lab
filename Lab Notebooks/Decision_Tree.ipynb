{
  "nbformat": 4,
  "nbformat_minor": 0,
  "metadata": {
    "colab": {
      "provenance": []
    },
    "kernelspec": {
      "name": "python3",
      "display_name": "Python 3"
    },
    "language_info": {
      "name": "python"
    }
  },
  "cells": [
    {
      "cell_type": "code",
      "execution_count": 1,
      "metadata": {
        "colab": {
          "base_uri": "https://localhost:8080/"
        },
        "id": "0hQvyDpa7Sgm",
        "outputId": "e9680e34-5078-481d-dc7a-e47c99f8a9c3"
      },
      "outputs": [
        {
          "output_type": "stream",
          "name": "stdout",
          "text": [
            "Accuracy: 0.80\n",
            "\n",
            "Classification Report:\n",
            "              precision    recall  f1-score   support\n",
            "\n",
            "           0       0.76      0.84      0.80        19\n",
            "           1       0.84      0.76      0.80        21\n",
            "\n",
            "    accuracy                           0.80        40\n",
            "   macro avg       0.80      0.80      0.80        40\n",
            "weighted avg       0.80      0.80      0.80        40\n",
            "\n"
          ]
        }
      ],
      "source": [
        "from sklearn.datasets import make_classification\n",
        "from sklearn.model_selection import train_test_split\n",
        "from sklearn.tree import DecisionTreeClassifier\n",
        "from sklearn.metrics import accuracy_score, classification_report\n",
        "\n",
        "# Generate synthetic social network data\n",
        "# Features: Age, Activity level; Labels: (0 = Not Interested, 1 = Interested)\n",
        "X, y = make_classification(n_samples=200, n_features=2, n_informative=2, n_redundant=0,\n",
        "                           n_classes=2, random_state=42)\n",
        "\n",
        "# Split data into training and testing sets\n",
        "X_train, X_test, y_train, y_test = train_test_split(X, y, test_size=0.2, random_state=42)\n",
        "\n",
        "# Create and train the Decision Tree Classifier\n",
        "classifier = DecisionTreeClassifier(random_state=42)\n",
        "classifier.fit(X_train, y_train)\n",
        "\n",
        "# Make predictions on the test set\n",
        "y_pred = classifier.predict(X_test)\n",
        "\n",
        "# Evaluate the classifier\n",
        "accuracy = accuracy_score(y_test, y_pred)\n",
        "print(f\"Accuracy: {accuracy:.2f}\")\n",
        "print(\"\\nClassification Report:\")\n",
        "print(classification_report(y_test, y_pred))\n"
      ]
    },
    {
      "cell_type": "code",
      "source": [],
      "metadata": {
        "id": "QzG_eLKo7TiW"
      },
      "execution_count": null,
      "outputs": []
    }
  ]
}