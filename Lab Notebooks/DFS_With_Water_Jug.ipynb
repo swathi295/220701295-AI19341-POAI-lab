{
 "cells": [
  {
   "cell_type": "markdown",
   "id": "68090e08-e75c-42a0-bed5-28366aedad16",
   "metadata": {},
   "source": [
    "# 220701295 - Swathi G"
   ]
  },
  {
   "cell_type": "markdown",
   "id": "b1846e6c-4e58-4473-90ae-b1a4057019d9",
   "metadata": {},
   "source": [
    "## DFS with Water Jug"
   ]
  },
  {
   "cell_type": "code",
   "execution_count": 1,
   "id": "99edd3ba-926b-4896-997d-4294d74179c8",
   "metadata": {},
   "outputs": [],
   "source": [
    "def waterJugDFS(jug1_capacity, jug2_capacity, target, current_state=None, visited=None):\n",
    "    if visited is None:\n",
    "        visited = set()\n",
    "    if current_state is None:\n",
    "        current_state = (0, 0)\n",
    "\n",
    "    if current_state in visited:\n",
    "        return False\n",
    "\n",
    "    visited.add(current_state)\n",
    "    \n",
    "    jug1, jug2 = current_state\n",
    "    print(f\"Jug1: {jug1}, Jug2: {jug2}\")\n",
    "\n",
    "    if jug1 == target or jug2 == target:\n",
    "        print(\"Solution found!\")\n",
    "        return True\n",
    "\n",
    "    possible_moves = [\n",
    "        (jug1_capacity, jug2),  # Fill jug 1\n",
    "        (jug1, jug2_capacity),  # Fill jug 2\n",
    "        (0, jug2),              # Empty jug 1\n",
    "        (jug1, 0),              # Empty jug 2\n",
    "        (min(jug1_capacity, jug1 + jug2), max(0, jug2 - (jug1_capacity - jug1))),  # Pour jug 2 -> jug 1\n",
    "        (max(0, jug1 - (jug2_capacity - jug2)), min(jug2_capacity, jug1 + jug2))   # Pour jug 1 -> jug 2\n",
    "    ]\n",
    "\n",
    "    for next_state in possible_moves:\n",
    "        if waterJugDFS(jug1_capacity, jug2_capacity, target, next_state, visited):\n",
    "            return True\n",
    "\n",
    "    return False"
   ]
  },
  {
   "cell_type": "code",
   "execution_count": 2,
   "id": "1054ed5a-570c-4908-a106-7beb7241e9c9",
   "metadata": {},
   "outputs": [
    {
     "name": "stdout",
     "output_type": "stream",
     "text": [
      "DFS Traversal for Water Jug Problem:\n",
      "Jug1: 0, Jug2: 0\n",
      "Jug1: 4, Jug2: 0\n",
      "Jug1: 4, Jug2: 3\n",
      "Jug1: 0, Jug2: 3\n",
      "Jug1: 3, Jug2: 0\n",
      "Jug1: 3, Jug2: 3\n",
      "Jug1: 4, Jug2: 2\n",
      "Solution found!\n"
     ]
    }
   ],
   "source": [
    "if __name__ == \"__main__\":\n",
    "    jug1_capacity = 4\n",
    "    jug2_capacity = 3\n",
    "    target = 2\n",
    "\n",
    "    print(\"DFS Traversal for Water Jug Problem:\")\n",
    "    if not waterJugDFS(jug1_capacity, jug2_capacity, target):\n",
    "        print(\"No solution found.\")"
   ]
  }
 ],
 "metadata": {
  "kernelspec": {
   "display_name": "Python 3 (ipykernel)",
   "language": "python",
   "name": "python3"
  },
  "language_info": {
   "codemirror_mode": {
    "name": "ipython",
    "version": 3
   },
   "file_extension": ".py",
   "mimetype": "text/x-python",
   "name": "python",
   "nbconvert_exporter": "python",
   "pygments_lexer": "ipython3",
   "version": "3.11.4"
  }
 },
 "nbformat": 4,
 "nbformat_minor": 5
}
