{
 "cells": [
  {
   "cell_type": "markdown",
   "id": "6b3dcbe7-2c2d-4471-9fa8-d347a404a5f1",
   "metadata": {},
   "source": [
    "# 220701295 - Swathi G"
   ]
  },
  {
   "cell_type": "markdown",
   "id": "d9a1f21f-359a-4c51-98ee-7fd9efeaa0e1",
   "metadata": {},
   "source": [
    "## A* Search Algorithm"
   ]
  },
  {
   "cell_type": "code",
   "execution_count": 1,
   "id": "4fd0a109-6cba-43ed-a6af-14788136fbf5",
   "metadata": {},
   "outputs": [],
   "source": [
    "import heapq"
   ]
  },
  {
   "cell_type": "code",
   "execution_count": null,
   "id": "00669c46-5af4-49b2-b85a-b55e515bd600",
   "metadata": {},
   "outputs": [],
   "source": [
    "# A* Search algorithm function\n",
    "def a_star_search(graph, start, goal, heuristic):\n",
    "    # Priority queue (min-heap) to store frontier nodes\n",
    "    open_list = []\n",
    "    heapq.heappush(open_list, (0, start))\n",
    "\n",
    "    # To keep track of the best cost to reach each node\n",
    "    g_cost = {start: 0}\n",
    "\n",
    "    # To keep track of the best path to reach each node\n",
    "    came_from = {start: None}\n",
    "\n",
    "    while open_list:\n",
    "        current_f_cost, current_node = heapq.heappop(open_list)\n",
    "\n",
    "        # If goal is reached, reconstruct the path\n",
    "        if current_node == goal:\n",
    "            return reconstruct_path(came_from, current_node)\n",
    "\n",
    "        # Explore neighbors of the current node\n",
    "        for neighbor, cost in graph[current_node]:\n",
    "            tentative_g_cost = g_cost[current_node] + cost\n",
    "\n",
    "            if neighbor not in g_cost or tentative_g_cost < g_cost[neighbor]:\n",
    "                g_cost[neighbor] = tentative_g_cost\n",
    "                f_cost = tentative_g_cost + heuristic[neighbor]\n",
    "                heapq.heappush(open_list, (f_cost, neighbor))\n",
    "                came_from[neighbor] = current_node\n",
    "\n",
    "    return None  # Return None if no path is found"
   ]
  },
  {
   "cell_type": "code",
   "execution_count": null,
   "id": "064b2778-20d5-467b-aaaf-cf2354e046cd",
   "metadata": {},
   "outputs": [],
   "source": [
    "def reconstruct_path(came_from, current):\n",
    "    total_path = [current]\n",
    "    while current in came_from and came_from[current] is not None:\n",
    "        current = came_from[current]\n",
    "        total_path.append(current)\n",
    "    return total_path[::-1]  # Return reversed path"
   ]
  },
  {
   "cell_type": "code",
   "execution_count": null,
   "id": "ab4671fd-14c0-4d9d-ac89-d2246550b400",
   "metadata": {},
   "outputs": [],
   "source": [
    "if _name_ == \"_main_\":\n",
    "    graph = {\n",
    "        'A': [('B', 1), ('C', 4)],\n",
    "        'B': [('A', 1), ('D', 2), ('E', 5)],\n",
    "        'C': [('A', 4), ('F', 3)],\n",
    "        'D': [('B', 2)],\n",
    "        'E': [('B', 5), ('F', 1)],\n",
    "        'F': [('C', 3), ('E', 1)]\n",
    "    }\n",
    "\n",
    "    heuristic = {\n",
    "        'A': 7,\n",
    "        'B': 6,\n",
    "        'C': 2,\n",
    "        'D': 6,\n",
    "        'E': 1,\n",
    "        'F': 0  # Goal node\n",
    "    }\n",
    "\n",
    "    start_node = 'A'\n",
    "    goal_node = 'F'\n",
    "\n",
    "    path = a_star_search(graph, start_node, goal_node, heuristic)\n",
    "\n",
    "    if path:\n",
    "        print(f\"Path found: {' -> '.join(path)}\")\n",
    "    else:\n",
    "        print(\"No path found.\")"
   ]
  }
 ],
 "metadata": {
  "kernelspec": {
   "display_name": "Python 3 (ipykernel)",
   "language": "python",
   "name": "python3"
  },
  "language_info": {
   "codemirror_mode": {
    "name": "ipython",
    "version": 3
   },
   "file_extension": ".py",
   "mimetype": "text/x-python",
   "name": "python",
   "nbconvert_exporter": "python",
   "pygments_lexer": "ipython3",
   "version": "3.11.4"
  }
 },
 "nbformat": 4,
 "nbformat_minor": 5
}
